{
 "cells": [
  {
   "cell_type": "code",
   "execution_count": 24,
   "metadata": {},
   "outputs": [
    {
     "data": {
      "text/plain": [
       "[['i1', 6], ['i2', 7], ['i5', 2], ['i4', 2], ['i3', 6]]"
      ]
     },
     "execution_count": 24,
     "metadata": {},
     "output_type": "execute_result"
    }
   ],
   "source": [
    "import numpy as np\n",
    "import pandas as pd\n",
    "import random\n",
    "from collections import Counter\n",
    "import math\n",
    "from itertools import chain \n",
    "\n",
    "d = {'TID': ['t1','t2','t3','t4','t5','t6','t7','t8','t9'],\n",
    "     'Item_List': [['i1','i2','i5'],\n",
    "                   ['i2','i4'],\n",
    "                   ['i2','i3'],\n",
    "                   ['i1','i2','i4'],\n",
    "                   ['i1','i3'],\n",
    "                   ['i2','i3'],\n",
    "                   ['i1','i3'],\n",
    "                   ['i1','i2','i3','i5'],\n",
    "                   ['i1','i2','i3']\n",
    "                  ]\n",
    "    }\n",
    "df = pd.DataFrame(d)\n",
    "# min_support = input(\"Enter min support\")\n",
    "item_list = list(df.iloc[:,1])\n",
    "min_support = 2\n",
    "c1 =Counter(list(chain.from_iterable(item_list))) \n",
    "list_key_value = [ [k,v] for k, v in c1.items() ]\n",
    "list_key_value = [[k,v] for k,v in list_key_value if v>=2]\n",
    "list_key_value\n"
   ]
  },
  {
   "cell_type": "code",
   "execution_count": null,
   "metadata": {},
   "outputs": [],
   "source": []
  },
  {
   "cell_type": "code",
   "execution_count": null,
   "metadata": {},
   "outputs": [],
   "source": []
  }
 ],
 "metadata": {
  "kernelspec": {
   "display_name": "Python 3.7.3 32-bit",
   "language": "python",
   "name": "python37332bit33b4ec8d10664a42ad9a1816f0a4c0b5"
  },
  "language_info": {
   "codemirror_mode": {
    "name": "ipython",
    "version": 3
   },
   "file_extension": ".py",
   "mimetype": "text/x-python",
   "name": "python",
   "nbconvert_exporter": "python",
   "pygments_lexer": "ipython3",
   "version": "3.7.3"
  }
 },
 "nbformat": 4,
 "nbformat_minor": 2
}
