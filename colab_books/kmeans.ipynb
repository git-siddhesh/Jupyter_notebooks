{
 "cells": [
  {
   "cell_type": "code",
   "execution_count": 3,
   "metadata": {},
   "outputs": [
    {
     "name": "stdout",
     "output_type": "stream",
     "text": [
      "     A    B\n",
      "0  1.0  1.0\n",
      "1  1.5  2.0\n",
      "2  3.0  4.0\n",
      "3  5.0  7.0\n",
      "4  3.5  5.0\n",
      "5  4.5  5.0\n",
      "6  3.5  4.5\n",
      "Here k value is 2\n",
      "initial mean: [1.0, 1.0] [5.0, 7.0]\n",
      "['p0', 'p1', 'p2'] ['p3', 'p4', 'p5', 'p6']\n",
      "1st mean: [2.125, 2.75] [3.9375, 5.0]\n",
      "updated mean: [1.53125, 1.9375] [3.841796875, 4.84375]\n",
      "['p0', 'p1'] ['p2', 'p3', 'p4', 'p5', 'p6']\n"
     ]
    }
   ],
   "source": [
    "import numpy as np\n",
    "import pandas as pd\n",
    "import random\n",
    "import math\n",
    "d = {'A': [1,1.5,3,5,3.5,4.5,3.5],\n",
    "     'B': [1,2,4,7,5,5,4.5]\n",
    "    }\n",
    "df = pd.DataFrame(d)\n",
    "print(df)\n",
    "print(\"Here k value is 2\")\n",
    "# k  = input(\"Enter the value of k\")\n",
    "# a,b = random.sample(range(0,7),2)\n",
    "a = 0\n",
    "b = 3\n",
    "A = df.iloc[:,0]\n",
    "B = df.iloc[:,1]\n",
    "amean = [A[a],B[a]]\n",
    "bmean = [A[b],B[b]]\n",
    "print(\"initial mean:\" ,amean,bmean)\n",
    "cluster1 =['p%d'%a]\n",
    "cluster2 =['p%d'%b]\n",
    "\n",
    "\n",
    "\n",
    "def caldist(x,y):\n",
    "    return(math.sqrt((y[0]-x[0])**2 + (y[1]-x[1])**2))\n",
    "for i in range(0,len(A)):\n",
    "    if i !=a and i!=b:\n",
    "        cls1 = caldist(amean,[A[i],B[i]])\n",
    "        cls2 = caldist(bmean,[A[i],B[i]])\n",
    "        if cls1 < cls2:\n",
    "            amean = [(amean[0]+A[i])/2,(amean[1]+B[i])/2]\n",
    "            cluster1.append('p%d'%i)\n",
    "        else:\n",
    "            bmean = [(bmean[0]+A[i])/2,(bmean[1]+B[i])/2]\n",
    "            cluster2.append('p%d'%i) \n",
    "print(cluster1,cluster2)\n",
    "print(\"1st mean:\" ,amean,bmean)\n",
    "\n",
    "while(1):\n",
    "    clst1 = []\n",
    "    clst2 = []\n",
    "    for i in range(0,7):\n",
    "        cls1 = caldist(amean,[A[i],B[i]])\n",
    "        cls2 = caldist(bmean,[A[i],B[i]])\n",
    "        if cls1 < cls2:\n",
    "            amean = [(amean[0]+A[i])/2,(amean[1]+B[i])/2]\n",
    "            clst1.append('p%d'%i)\n",
    "        else:\n",
    "            bmean = [(bmean[0]+A[i])/2,(bmean[1]+B[i])/2]\n",
    "            clst2.append('p%d'%i) \n",
    "    if clst1 == cluster1 and clst2 == cluster2:\n",
    "        break\n",
    "    cluster1,cluster2 = clst1,clst2\n",
    "    print(\"updated mean:\" ,amean,bmean)\n",
    "\n",
    "print(clst1,clst2)\n"
   ]
  },
  {
   "cell_type": "code",
   "execution_count": 5,
   "metadata": {},
   "outputs": [
    {
     "name": "stdout",
     "output_type": "stream",
     "text": [
      "C:\\Users\\Siddhesh\n"
     ]
    }
   ],
   "source": [
    "!cd"
   ]
  },
  {
   "cell_type": "code",
   "execution_count": null,
   "metadata": {},
   "outputs": [],
   "source": []
  }
 ],
 "metadata": {
  "kernelspec": {
   "display_name": "Python 3.7.3 32-bit",
   "language": "python",
   "name": "python37332bit33b4ec8d10664a42ad9a1816f0a4c0b5"
  },
  "language_info": {
   "codemirror_mode": {
    "name": "ipython",
    "version": 3
   },
   "file_extension": ".py",
   "mimetype": "text/x-python",
   "name": "python",
   "nbconvert_exporter": "python",
   "pygments_lexer": "ipython3",
   "version": "3.7.3"
  }
 },
 "nbformat": 4,
 "nbformat_minor": 2
}
