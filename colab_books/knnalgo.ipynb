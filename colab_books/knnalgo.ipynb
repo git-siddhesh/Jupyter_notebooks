{
 "cells": [
  {
   "cell_type": "code",
   "execution_count": 1,
   "metadata": {},
   "outputs": [],
   "source": [
    "import numpy as np\n",
    "import pandas as pd\n",
    "import math\n"
   ]
  },
  {
   "cell_type": "code",
   "execution_count": 14,
   "metadata": {},
   "outputs": [
    {
     "name": "stdout",
     "output_type": "stream",
     "text": [
      "Enter the coordinates: 42 45000\n",
      "Enter value of k: 5\n",
      "['Yes', 'No', 'No', 'Yes', 'No']\n",
      "No\n"
     ]
    }
   ],
   "source": [
    "d = pd.read_csv(\"devesh.csv\")\n",
    "df = pd.DataFrame(d)\n",
    "x = df.iloc[:,:].values\n",
    "purchased = x[:,-1]\n",
    "x = x[:,2:-1]\n",
    "\n",
    "lst = x.tolist()\n",
    "\n",
    "coord = list(map(int,input(\"Enter the coordinates: \").split()))\n",
    "k = int(input(\"Enter value of k: \"))\n",
    "\n",
    "dist = []\n",
    "for i in lst:\n",
    "    dst = math.sqrt((i[1]-coord[1])**2+(i[0]-coord[0])**2)\n",
    "    dist.append(dst)\n",
    "\n",
    "for i in range(len(dist)):\n",
    "    for j in range(i,len(dist)):\n",
    "        if(dist[i]>dist[j]):\n",
    "            dist[i],dist[j] = dist[j],dist[i]\n",
    "            purchased[j],purchased[i] = purchased[i],purchased[j]\n",
    "\n",
    "print(list(purchased[:k]))\n",
    "if list(purchased[:k]).count('Yes')>list(purchased[:k]).count('No'):\n",
    "    print(\"Yes\")\n",
    "else:\n",
    "    print(\"No\")"
   ]
  },
  {
   "cell_type": "code",
   "execution_count": null,
   "metadata": {},
   "outputs": [],
   "source": []
  }
 ],
 "metadata": {
  "kernelspec": {
   "display_name": "Python 3.7.3 32-bit",
   "language": "python",
   "name": "python37332bit33b4ec8d10664a42ad9a1816f0a4c0b5"
  },
  "language_info": {
   "codemirror_mode": {
    "name": "ipython",
    "version": 3
   },
   "file_extension": ".py",
   "mimetype": "text/x-python",
   "name": "python",
   "nbconvert_exporter": "python",
   "pygments_lexer": "ipython3",
   "version": "3.7.3"
  }
 },
 "nbformat": 4,
 "nbformat_minor": 2
}
