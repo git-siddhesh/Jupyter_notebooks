{
 "cells": [
  {
   "cell_type": "code",
   "execution_count": 2,
   "metadata": {},
   "outputs": [],
   "source": [
    "import numpy as np\n",
    "import pandas as pd\n",
    "import math"
   ]
  },
  {
   "cell_type": "code",
   "execution_count": 4,
   "metadata": {
    "scrolled": true
   },
   "outputs": [
    {
     "name": "stdout",
     "output_type": "stream",
     "text": [
      "   sample material weight cost class\n",
      "0       1        W      L    H    WD\n",
      "1       2        W      H    L    WD\n",
      "2       3        C      H    L    WD\n",
      "3       4        J      H    L    WD\n",
      "4       5        C      L    L    SD\n",
      "5       6        C      L    H    SD\n",
      "6       7        C      H    L    SD\n",
      "7       8        C      H    H    SD\n",
      "8       9        J      L    H    SD\n",
      "9      10        J      L    L   NaN\n",
      "Enter the material: J\n",
      "Enter the weight: L\n",
      "Enter the cost: L\n",
      "0.4444444444444444 0.5555555555555556\n",
      "Summer Dress\n"
     ]
    }
   ],
   "source": [
    "d = pd.read_csv('dress.csv')\n",
    "df = pd.DataFrame(d)\n",
    "print(df)\n",
    "df = df.drop(9,axis = 0)\n",
    "material = input(\"Enter the material: \")\n",
    "weight = input(\"Enter the weight: \")\n",
    "cost = input(\"Enter the cost: \")\n",
    "#Separating the columns to different lists \n",
    "material_class = df.iloc[:,1].values\n",
    "weight_class = df.iloc[:,2].values\n",
    "cost_class = df.iloc[:,3].values\n",
    "dress_class = df.iloc[:,4].values\n",
    "uniq,count = np.unique(dress_class,return_counts=True)\n",
    "#arr = np.asarray((uniq,count)).T\n",
    "prob_wd = count[1]/np.sum(count)\n",
    "prob_sd = 1-prob_wd\n",
    "print(prob_wd,prob_sd)\n",
    "mat = wgt = cst = 0\n",
    "for i in range(np.sum(count)):\n",
    "    if material_class[i] ==material and dress_class[i] == uniq[1] :\n",
    "        mat+=1\n",
    "    if weight_class[i] == weight and dress_class[i] == uniq[1]:\n",
    "        wgt+=1\n",
    "    if cost_class[i] == cost and dress_class[i] == uniq[1]:\n",
    "        cst+=1\n",
    "pwd = (mat/count[1])*(wgt/count[1])*(cst/count[1])*prob_wd\n",
    "\n",
    "mat = wgt = cst = 0\n",
    "for i in range(np.sum(count)):\n",
    "    if material_class[i] ==material and dress_class[i] == uniq[0] :\n",
    "        mat+=1\n",
    "    if weight_class[i] == weight and dress_class[i] == uniq[0]:\n",
    "        wgt+=1\n",
    "    if cost_class[i] == cost and dress_class[i] == uniq[0]:\n",
    "        cst+=1\n",
    "psd = (mat/count[1])*(wgt/count[1])*(cst/count[1])*prob_sd\n",
    "clas = \"Winter Dress\" if pwd>psd else \"Summer Dress\"\n",
    "print(clas)"
   ]
  },
  {
   "cell_type": "code",
   "execution_count": 54,
   "metadata": {},
   "outputs": [],
   "source": []
  },
  {
   "cell_type": "code",
   "execution_count": 14,
   "metadata": {},
   "outputs": [
    {
     "name": "stdout",
     "output_type": "stream",
     "text": [
      "Summer Dress\n"
     ]
    }
   ],
   "source": []
  },
  {
   "cell_type": "code",
   "execution_count": 10,
   "metadata": {},
   "outputs": [
    {
     "data": {
      "text/plain": [
       "0.020833333333333332"
      ]
     },
     "execution_count": 10,
     "metadata": {},
     "output_type": "execute_result"
    }
   ],
   "source": [
    "(mat/count[1])*(wgt/count[1])*(cst/count[1])*prob_wd\n"
   ]
  },
  {
   "cell_type": "code",
   "execution_count": null,
   "metadata": {},
   "outputs": [],
   "source": []
  }
 ],
 "metadata": {
  "kernelspec": {
   "display_name": "Python 3.7.3 32-bit",
   "language": "python",
   "name": "python37332bit33b4ec8d10664a42ad9a1816f0a4c0b5"
  },
  "language_info": {
   "codemirror_mode": {
    "name": "ipython",
    "version": 3
   },
   "file_extension": ".py",
   "mimetype": "text/x-python",
   "name": "python",
   "nbconvert_exporter": "python",
   "pygments_lexer": "ipython3",
   "version": "3.7.3"
  }
 },
 "nbformat": 4,
 "nbformat_minor": 2
}
